{
 "cells": [
  {
   "cell_type": "markdown",
   "id": "6bba6d41",
   "metadata": {},
   "source": [
    "# Install packages"
   ]
  },
  {
   "cell_type": "code",
   "execution_count": 20,
   "id": "c1f4a6d4",
   "metadata": {},
   "outputs": [],
   "source": [
    "import pandas as pd\n",
    "import numpy as np\n",
    "import scipy\n",
    "from scipy import stats\n",
    "from statsmodels.stats.multicomp import pairwise_tukeyhsd\n",
    "from statsmodels.stats.multicomp import MultiComparison\n",
    "import seaborn as sns"
   ]
  },
  {
   "cell_type": "markdown",
   "id": "51c57c7b",
   "metadata": {},
   "source": [
    "# Load in Data"
   ]
  },
  {
   "cell_type": "code",
   "execution_count": 3,
   "id": "520533c0",
   "metadata": {},
   "outputs": [],
   "source": [
    "avocados = pd.read_csv(\"avocados.csv\")"
   ]
  },
  {
   "cell_type": "markdown",
   "id": "acbb5e82",
   "metadata": {},
   "source": [
    "# Does the total volume of avocados sold differ between Indianapolis, Orlando, and PhoenixTuscon? "
   ]
  },
  {
   "cell_type": "code",
   "execution_count": 4,
   "id": "690aa120",
   "metadata": {},
   "outputs": [
    {
     "data": {
      "text/plain": [
       "Index(['Unnamed: 0', 'Date', 'AveragePrice', 'Total Volume', '4046', '4225',\n",
       "       '4770', 'Total Bags', 'Small Bags', 'Large Bags', 'XLarge Bags', 'type',\n",
       "       'year', 'region'],\n",
       "      dtype='object')"
      ]
     },
     "execution_count": 4,
     "metadata": {},
     "output_type": "execute_result"
    }
   ],
   "source": [
    "avocados.columns"
   ]
  },
  {
   "cell_type": "markdown",
   "id": "3f889453",
   "metadata": {},
   "source": [
    "# Data Wrangling\n",
    "## Focusing on the Three regions"
   ]
  },
  {
   "cell_type": "code",
   "execution_count": 72,
   "id": "2a2bc4fe",
   "metadata": {},
   "outputs": [],
   "source": [
    "region = ['Indianapolis', 'Orlando', 'PhoenixTuscon']\n",
    "avocados1 = avocados['region'].isin(region)\n",
    "avocados2 = avocados[avocados1].copy()"
   ]
  },
  {
   "cell_type": "markdown",
   "id": "d3ea0723",
   "metadata": {},
   "source": [
    "## Subsetting to Only the Variables Needed"
   ]
  },
  {
   "cell_type": "code",
   "execution_count": 73,
   "id": "d7db7d7d",
   "metadata": {},
   "outputs": [],
   "source": [
    "avocados3 = avocados2[['region','Total Volume']]"
   ]
  },
  {
   "cell_type": "code",
   "execution_count": 74,
   "id": "46a3c392",
   "metadata": {},
   "outputs": [
    {
     "name": "stdout",
     "output_type": "stream",
     "text": [
      "<class 'pandas.core.frame.DataFrame'>\n",
      "Int64Index: 676 entries, 988 to 17984\n",
      "Data columns (total 2 columns):\n",
      " #   Column        Non-Null Count  Dtype  \n",
      "---  ------        --------------  -----  \n",
      " 0   region        676 non-null    object \n",
      " 1   Total Volume  676 non-null    float64\n",
      "dtypes: float64(1), object(1)\n",
      "memory usage: 15.8+ KB\n"
     ]
    }
   ],
   "source": [
    "avocados3.info()"
   ]
  },
  {
   "cell_type": "markdown",
   "id": "6953743d",
   "metadata": {},
   "source": [
    "## Changing Column names"
   ]
  },
  {
   "cell_type": "code",
   "execution_count": 75,
   "id": "c8be6d5d",
   "metadata": {},
   "outputs": [],
   "source": [
    "avocados3.columns = ['region', 'TotalVolume']"
   ]
  },
  {
   "cell_type": "code",
   "execution_count": 76,
   "id": "d89da49c",
   "metadata": {},
   "outputs": [
    {
     "data": {
      "text/plain": [
       "Index(['region', 'TotalVolume'], dtype='object')"
      ]
     },
     "execution_count": 76,
     "metadata": {},
     "output_type": "execute_result"
    }
   ],
   "source": [
    "avocados3.columns"
   ]
  },
  {
   "cell_type": "markdown",
   "id": "fd263a57",
   "metadata": {},
   "source": [
    "## Changing Total Volume to an Integer"
   ]
  },
  {
   "cell_type": "code",
   "execution_count": 77,
   "id": "70e0bb5e",
   "metadata": {},
   "outputs": [
    {
     "name": "stderr",
     "output_type": "stream",
     "text": [
      "C:\\Users\\music\\anaconda3\\lib\\site-packages\\pandas\\core\\generic.py:5494: SettingWithCopyWarning: \n",
      "A value is trying to be set on a copy of a slice from a DataFrame.\n",
      "Try using .loc[row_indexer,col_indexer] = value instead\n",
      "\n",
      "See the caveats in the documentation: https://pandas.pydata.org/pandas-docs/stable/user_guide/indexing.html#returning-a-view-versus-a-copy\n",
      "  self[name] = value\n"
     ]
    }
   ],
   "source": [
    "avocados3.TotalVolume = avocados3.TotalVolume.astype(int)"
   ]
  },
  {
   "cell_type": "code",
   "execution_count": 15,
   "id": "6180a359",
   "metadata": {},
   "outputs": [
    {
     "name": "stdout",
     "output_type": "stream",
     "text": [
      "<class 'pandas.core.frame.DataFrame'>\n",
      "Int64Index: 676 entries, 988 to 17984\n",
      "Data columns (total 2 columns):\n",
      " #   Column       Non-Null Count  Dtype \n",
      "---  ------       --------------  ----- \n",
      " 0   region       676 non-null    object\n",
      " 1   TotalVolume  676 non-null    int32 \n",
      "dtypes: int32(1), object(1)\n",
      "memory usage: 13.2+ KB\n"
     ]
    }
   ],
   "source": [
    "avocados3.info()"
   ]
  },
  {
   "cell_type": "markdown",
   "id": "243939ad",
   "metadata": {},
   "source": [
    "## Recoding region to a Number"
   ]
  },
  {
   "cell_type": "code",
   "execution_count": 78,
   "id": "6fe5b659",
   "metadata": {},
   "outputs": [
    {
     "name": "stderr",
     "output_type": "stream",
     "text": [
      "<ipython-input-78-1f43d330e21a>:9: SettingWithCopyWarning: \n",
      "A value is trying to be set on a copy of a slice from a DataFrame.\n",
      "Try using .loc[row_indexer,col_indexer] = value instead\n",
      "\n",
      "See the caveats in the documentation: https://pandas.pydata.org/pandas-docs/stable/user_guide/indexing.html#returning-a-view-versus-a-copy\n",
      "  avocados3['regionR'] = avocados3['region'].apply(recode)\n"
     ]
    }
   ],
   "source": [
    "def recode (series):\n",
    "    if series == \"Indianapolis\": \n",
    "        return 0\n",
    "    if series == \"Orlando\": \n",
    "        return 1\n",
    "    if series == \"PhoenixTucson\":\n",
    "        return 2\n",
    "\n",
    "avocados3['regionR'] = avocados3['region'].apply(recode)"
   ]
  },
  {
   "cell_type": "markdown",
   "id": "98edfd4b",
   "metadata": {},
   "source": [
    "## Dropping the Original region Variable"
   ]
  },
  {
   "cell_type": "code",
   "execution_count": 79,
   "id": "c5f3c7b3",
   "metadata": {},
   "outputs": [],
   "source": [
    "avocados4 = avocados3[['regionR','TotalVolume']]"
   ]
  },
  {
   "cell_type": "markdown",
   "id": "2546a8eb",
   "metadata": {},
   "source": [
    "# Test Assumptions"
   ]
  },
  {
   "cell_type": "code",
   "execution_count": 37,
   "id": "c551d857",
   "metadata": {},
   "outputs": [
    {
     "name": "stderr",
     "output_type": "stream",
     "text": [
      "C:\\Users\\music\\anaconda3\\lib\\site-packages\\seaborn\\distributions.py:2557: FutureWarning: `distplot` is a deprecated function and will be removed in a future version. Please adapt your code to use either `displot` (a figure-level function with similar flexibility) or `histplot` (an axes-level function for histograms).\n",
      "  warnings.warn(msg, FutureWarning)\n"
     ]
    },
    {
     "data": {
      "text/plain": [
       "<AxesSubplot:xlabel='TotalVolume', ylabel='Density'>"
      ]
     },
     "execution_count": 37,
     "metadata": {},
     "output_type": "execute_result"
    },
    {
     "data": {
      "image/png": "[encoded data removed]",
      "text/plain": [
       "<Figure size 432x288 with 1 Axes>"
      ]
     },
     "metadata": {
      "needs_background": "light"
     },
     "output_type": "display_data"
    }
   ],
   "source": [
    "sns.distplot(avocados4['TotalVolume'])"
   ]
  },
  {
   "cell_type": "code",
   "execution_count": 38,
   "id": "c262fc8b",
   "metadata": {},
   "outputs": [
    {
     "name": "stderr",
     "output_type": "stream",
     "text": [
      "C:\\Users\\music\\anaconda3\\lib\\site-packages\\seaborn\\distributions.py:2557: FutureWarning: `distplot` is a deprecated function and will be removed in a future version. Please adapt your code to use either `displot` (a figure-level function with similar flexibility) or `histplot` (an axes-level function for histograms).\n",
      "  warnings.warn(msg, FutureWarning)\n"
     ]
    },
    {
     "data": {
      "text/plain": [
       "<AxesSubplot:xlabel='TotalVolumeSQRT', ylabel='Density'>"
      ]
     },
     "execution_count": 38,
     "metadata": {},
     "output_type": "execute_result"
    },
    {
     "data": {
      "image/png": "[encoded data removed]",
      "text/plain": [
       "<Figure size 432x288 with 1 Axes>"
      ]
     },
     "metadata": {
      "needs_background": "light"
     },
     "output_type": "display_data"
    }
   ],
   "source": [
    "avocados4['TotalVolumeSQRT'] = np.sqrt(avocados4['TotalVolume'])\n",
    "sns.distplot(avocados4['TotalVolumeSQRT'])"
   ]
  },
  {
   "cell_type": "code",
   "execution_count": 39,
   "id": "5452a189",
   "metadata": {},
   "outputs": [
    {
     "name": "stderr",
     "output_type": "stream",
     "text": [
      "C:\\Users\\music\\anaconda3\\lib\\site-packages\\seaborn\\distributions.py:2557: FutureWarning: `distplot` is a deprecated function and will be removed in a future version. Please adapt your code to use either `displot` (a figure-level function with similar flexibility) or `histplot` (an axes-level function for histograms).\n",
      "  warnings.warn(msg, FutureWarning)\n"
     ]
    },
    {
     "data": {
      "text/plain": [
       "<AxesSubplot:xlabel='TotalVolumeSQRTLOG', ylabel='Density'>"
      ]
     },
     "execution_count": 39,
     "metadata": {},
     "output_type": "execute_result"
    },
    {
     "data": {
      "image/png": "[encoded data removed]",
      "text/plain": [
       "<Figure size 432x288 with 1 Axes>"
      ]
     },
     "metadata": {
      "needs_background": "light"
     },
     "output_type": "display_data"
    }
   ],
   "source": [
    "avocados4['TotalVolumeSQRTLOG'] = np.log(avocados4['TotalVolumeSQRT'])\n",
    "sns.distplot(avocados4['TotalVolumeSQRTLOG'])"
   ]
  },
  {
   "cell_type": "markdown",
   "id": "acc9c0fd",
   "metadata": {},
   "source": [
    "# Homogeneity of Variance"
   ]
  },
  {
   "cell_type": "code",
   "execution_count": 40,
   "id": "4782817c",
   "metadata": {},
   "outputs": [
    {
     "data": {
      "text/plain": [
       "BartlettResult(statistic=325.4355690469976, pvalue=9.483032166808211e-73)"
      ]
     },
     "execution_count": 40,
     "metadata": {},
     "output_type": "execute_result"
    }
   ],
   "source": [
    "scipy.stats.bartlett(avocados4['TotalVolumeSQRTLOG'], avocados4['regionR'])"
   ]
  },
  {
   "cell_type": "code",
   "execution_count": 41,
   "id": "c1906be0",
   "metadata": {},
   "outputs": [
    {
     "data": {
      "text/plain": [
       "FlignerResult(statistic=867.9390748042205, pvalue=9.154214657182348e-191)"
      ]
     },
     "execution_count": 41,
     "metadata": {},
     "output_type": "execute_result"
    }
   ],
   "source": [
    "scipy.stats.fligner(avocados4['TotalVolumeSQRTLOG'], avocados4['regionR'])"
   ]
  },
  {
   "cell_type": "markdown",
   "id": "265d82e6",
   "metadata": {},
   "source": [
    "# The p value associated with this test is < .05, which means that unfortunately, you have violated the assumption of homogeneity of variance.\n",
    "\n"
   ]
  },
  {
   "cell_type": "markdown",
   "id": "d28841c7",
   "metadata": {},
   "source": [
    "# Which means that you can run the ANOVA, but there is a good chance it will be inaccurate. If you do choose to proceed with the analysis in Python, ensure that all parties consuming your results understand that there could be inaccuracies with the data analysis!"
   ]
  },
  {
   "cell_type": "code",
   "execution_count": 42,
   "id": "90f9cff2",
   "metadata": {},
   "outputs": [
    {
     "name": "stdout",
     "output_type": "stream",
     "text": [
      "Multiple Comparison of Means - Tukey HSD, FWER=0.05\n",
      "==================================================\n",
      "group1 group2 meandiff p-adj  lower  upper  reject\n",
      "--------------------------------------------------\n",
      "     0      1   0.2146 0.0067 0.0596 0.3696   True\n",
      "--------------------------------------------------\n"
     ]
    }
   ],
   "source": [
    "postHoc = MultiComparison(avocados4['TotalVolumeSQRTLOG'], avocados4['regionR'])\n",
    "postHocResults = postHoc.tukeyhsd()\n",
    "print(postHocResults)"
   ]
  },
  {
   "cell_type": "markdown",
   "id": "fd471855",
   "metadata": {},
   "source": [
    "# True difference in those groups however may be inaccurate."
   ]
  },
  {
   "cell_type": "code",
   "execution_count": 43,
   "id": "271339fd",
   "metadata": {},
   "outputs": [
    {
     "data": {
      "text/html": [
       "<div>\n",
       "<style scoped>\n",
       "    .dataframe tbody tr th:only-of-type {\n",
       "        vertical-align: middle;\n",
       "    }\n",
       "\n",
       "    .dataframe tbody tr th {\n",
       "        vertical-align: top;\n",
       "    }\n",
       "\n",
       "    .dataframe thead th {\n",
       "        text-align: right;\n",
       "    }\n",
       "</style>\n",
       "<table border=\"1\" class=\"dataframe\">\n",
       "  <thead>\n",
       "    <tr style=\"text-align: right;\">\n",
       "      <th></th>\n",
       "      <th>TotalVolume</th>\n",
       "      <th>TotalVolumeSQRT</th>\n",
       "      <th>TotalVolumeSQRTLOG</th>\n",
       "    </tr>\n",
       "    <tr>\n",
       "      <th>regionR</th>\n",
       "      <th></th>\n",
       "      <th></th>\n",
       "      <th></th>\n",
       "    </tr>\n",
       "  </thead>\n",
       "  <tbody>\n",
       "    <tr>\n",
       "      <th>0</th>\n",
       "      <td>89536.180473</td>\n",
       "      <td>240.444255</td>\n",
       "      <td>5.078744</td>\n",
       "    </tr>\n",
       "    <tr>\n",
       "      <th>1</th>\n",
       "      <td>173551.840237</td>\n",
       "      <td>324.643652</td>\n",
       "      <td>5.293341</td>\n",
       "    </tr>\n",
       "  </tbody>\n",
       "</table>\n",
       "</div>"
      ],
      "text/plain": [
       "           TotalVolume  TotalVolumeSQRT  TotalVolumeSQRTLOG\n",
       "regionR                                                    \n",
       "0         89536.180473       240.444255            5.078744\n",
       "1        173551.840237       324.643652            5.293341"
      ]
     },
     "execution_count": 43,
     "metadata": {},
     "output_type": "execute_result"
    }
   ],
   "source": [
    "avocados4.groupby('regionR').mean()"
   ]
  }
 ],
 "metadata": {
  "kernelspec": {
   "display_name": "Python 3",
   "language": "python",
   "name": "python3"
  },
  "language_info": {
   "codemirror_mode": {
    "name": "ipython",
    "version": 3
   },
   "file_extension": ".py",
   "mimetype": "text/x-python",
   "name": "python",
   "nbconvert_exporter": "python",
   "pygments_lexer": "ipython3",
   "version": "3.8.8"
  }
 },
 "nbformat": 4,
 "nbformat_minor": 5
}
