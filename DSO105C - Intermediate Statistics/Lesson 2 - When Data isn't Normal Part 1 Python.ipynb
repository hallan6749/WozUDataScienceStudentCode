{
 "cells": [
  {
   "cell_type": "markdown",
   "id": "19a46dde",
   "metadata": {},
   "source": [
    "# Import Data & Packages"
   ]
  },
  {
   "cell_type": "code",
   "execution_count": 1,
   "id": "b255bdf9",
   "metadata": {},
   "outputs": [],
   "source": [
    "import pandas as pd\n",
    "import numpy as np\n",
    "from scipy.stats import norm\n",
    "from scipy import stats\n",
    "from scipy.stats import ttest_ind\n",
    "import matplotlib.pyplot as plt\n",
    "import seaborn as sns"
   ]
  },
  {
   "cell_type": "code",
   "execution_count": 3,
   "id": "bf6adf6c",
   "metadata": {},
   "outputs": [],
   "source": [
    "Seattle_ParksnRec = pd.read_csv(\"Seattle_ParksnRec.csv\")"
   ]
  },
  {
   "cell_type": "code",
   "execution_count": 4,
   "id": "0b923839",
   "metadata": {},
   "outputs": [
    {
     "data": {
      "text/html": [
       "<div>\n",
       "<style scoped>\n",
       "    .dataframe tbody tr th:only-of-type {\n",
       "        vertical-align: middle;\n",
       "    }\n",
       "\n",
       "    .dataframe tbody tr th {\n",
       "        vertical-align: top;\n",
       "    }\n",
       "\n",
       "    .dataframe thead th {\n",
       "        text-align: right;\n",
       "    }\n",
       "</style>\n",
       "<table border=\"1\" class=\"dataframe\">\n",
       "  <thead>\n",
       "    <tr style=\"text-align: right;\">\n",
       "      <th></th>\n",
       "      <th>Geographic Region</th>\n",
       "      <th>Year</th>\n",
       "      <th># of trips Winter</th>\n",
       "      <th># of participants Winter</th>\n",
       "      <th># of trips Spring</th>\n",
       "      <th># of participants Spring</th>\n",
       "      <th># of trips Summer</th>\n",
       "      <th># of participants Summer</th>\n",
       "      <th># of trips Fall</th>\n",
       "      <th># of participants Fall</th>\n",
       "      <th># of trips per year</th>\n",
       "      <th># participants per year</th>\n",
       "      <th>increase/decrease of prior year</th>\n",
       "      <th>Average # people per trip</th>\n",
       "    </tr>\n",
       "  </thead>\n",
       "  <tbody>\n",
       "    <tr>\n",
       "      <th>0</th>\n",
       "      <td>Central</td>\n",
       "      <td>2005</td>\n",
       "      <td>13</td>\n",
       "      <td>154</td>\n",
       "      <td>18</td>\n",
       "      <td>290</td>\n",
       "      <td>20</td>\n",
       "      <td>267</td>\n",
       "      <td>16</td>\n",
       "      <td>245</td>\n",
       "      <td>67</td>\n",
       "      <td>956</td>\n",
       "      <td>0.00</td>\n",
       "      <td>11.85</td>\n",
       "    </tr>\n",
       "    <tr>\n",
       "      <th>1</th>\n",
       "      <td>Central</td>\n",
       "      <td>2006</td>\n",
       "      <td>17</td>\n",
       "      <td>229</td>\n",
       "      <td>16</td>\n",
       "      <td>227</td>\n",
       "      <td>19</td>\n",
       "      <td>265</td>\n",
       "      <td>16</td>\n",
       "      <td>280</td>\n",
       "      <td>68</td>\n",
       "      <td>1001</td>\n",
       "      <td>4.71</td>\n",
       "      <td>13.47</td>\n",
       "    </tr>\n",
       "    <tr>\n",
       "      <th>2</th>\n",
       "      <td>Central</td>\n",
       "      <td>2007</td>\n",
       "      <td>17</td>\n",
       "      <td>222</td>\n",
       "      <td>15</td>\n",
       "      <td>244</td>\n",
       "      <td>13</td>\n",
       "      <td>199</td>\n",
       "      <td>17</td>\n",
       "      <td>261</td>\n",
       "      <td>62</td>\n",
       "      <td>926</td>\n",
       "      <td>-7.49</td>\n",
       "      <td>13.06</td>\n",
       "    </tr>\n",
       "    <tr>\n",
       "      <th>3</th>\n",
       "      <td>Central</td>\n",
       "      <td>2008</td>\n",
       "      <td>18</td>\n",
       "      <td>300</td>\n",
       "      <td>19</td>\n",
       "      <td>335</td>\n",
       "      <td>20</td>\n",
       "      <td>283</td>\n",
       "      <td>18</td>\n",
       "      <td>293</td>\n",
       "      <td>75</td>\n",
       "      <td>1211</td>\n",
       "      <td>30.78</td>\n",
       "      <td>16.67</td>\n",
       "    </tr>\n",
       "    <tr>\n",
       "      <th>4</th>\n",
       "      <td>Central</td>\n",
       "      <td>2009</td>\n",
       "      <td>18</td>\n",
       "      <td>276</td>\n",
       "      <td>23</td>\n",
       "      <td>302</td>\n",
       "      <td>25</td>\n",
       "      <td>368</td>\n",
       "      <td>28</td>\n",
       "      <td>426</td>\n",
       "      <td>94</td>\n",
       "      <td>1372</td>\n",
       "      <td>13.29</td>\n",
       "      <td>15.33</td>\n",
       "    </tr>\n",
       "  </tbody>\n",
       "</table>\n",
       "</div>"
      ],
      "text/plain": [
       "  Geographic Region  Year  # of trips Winter  # of participants Winter  \\\n",
       "0           Central  2005                 13                       154   \n",
       "1           Central  2006                 17                       229   \n",
       "2           Central  2007                 17                       222   \n",
       "3           Central  2008                 18                       300   \n",
       "4           Central  2009                 18                       276   \n",
       "\n",
       "   # of trips Spring  # of participants Spring  # of trips Summer  \\\n",
       "0                 18                       290                 20   \n",
       "1                 16                       227                 19   \n",
       "2                 15                       244                 13   \n",
       "3                 19                       335                 20   \n",
       "4                 23                       302                 25   \n",
       "\n",
       "   # of participants Summer  # of trips Fall  # of participants Fall  \\\n",
       "0                       267               16                     245   \n",
       "1                       265               16                     280   \n",
       "2                       199               17                     261   \n",
       "3                       283               18                     293   \n",
       "4                       368               28                     426   \n",
       "\n",
       "   # of trips per year  # participants per year  \\\n",
       "0                   67                      956   \n",
       "1                   68                     1001   \n",
       "2                   62                      926   \n",
       "3                   75                     1211   \n",
       "4                   94                     1372   \n",
       "\n",
       "   increase/decrease of prior year  Average # people per trip  \n",
       "0                             0.00                      11.85  \n",
       "1                             4.71                      13.47  \n",
       "2                            -7.49                      13.06  \n",
       "3                            30.78                      16.67  \n",
       "4                            13.29                      15.33  "
      ]
     },
     "execution_count": 4,
     "metadata": {},
     "output_type": "execute_result"
    }
   ],
   "source": [
    "Seattle_ParksnRec.head()"
   ]
  },
  {
   "cell_type": "markdown",
   "id": "78e22447",
   "metadata": {},
   "source": [
    "### Rename columns"
   ]
  },
  {
   "cell_type": "code",
   "execution_count": 5,
   "id": "a9c5b6a0",
   "metadata": {},
   "outputs": [
    {
     "data": {
      "text/plain": [
       "Index(['Geographic Region', 'Year', '# of trips Winter',\n",
       "       '# of participants Winter', '# of trips Spring',\n",
       "       '# of participants Spring', '# of trips Summer',\n",
       "       '# of participants Summer', '# of trips Fall', '# of participants Fall',\n",
       "       '# of trips per year', '# participants per year',\n",
       "       'increase/decrease of prior year', 'Average # people per trip'],\n",
       "      dtype='object')"
      ]
     },
     "execution_count": 5,
     "metadata": {},
     "output_type": "execute_result"
    }
   ],
   "source": [
    "Seattle_ParksnRec.columns"
   ]
  },
  {
   "cell_type": "code",
   "execution_count": 6,
   "id": "46af1260",
   "metadata": {},
   "outputs": [],
   "source": [
    "Seattle_ParksnRec.columns = ['Geographic Region', 'Year', 'Number of trips Winter',\n",
    "       'Number of participants Winter', 'Number of trips Spring',\n",
    "       'Number of participants Spring', 'Number of trips Summer',\n",
    "       'Number of participants Summer', 'Number of trips Fall', 'Number of participants Fall',\n",
    "       'Number of trips per year', 'Number participants per year',\n",
    "       'increase/decrease of prior year', 'Average Number people per trip']"
   ]
  },
  {
   "cell_type": "markdown",
   "id": "4eab3a68",
   "metadata": {},
   "source": [
    "# Number of trips Winter"
   ]
  },
  {
   "cell_type": "code",
   "execution_count": 13,
   "id": "3dbc7900",
   "metadata": {},
   "outputs": [
    {
     "data": {
      "text/plain": [
       "<AxesSubplot:>"
      ]
     },
     "execution_count": 13,
     "metadata": {},
     "output_type": "execute_result"
    },
    {
     "data": {
      "image/png": "[encoded data removed]",
      "text/plain": [
       "<Figure size 432x288 with 1 Axes>"
      ]
     },
     "metadata": {
      "needs_background": "light"
     },
     "output_type": "display_data"
    }
   ],
   "source": [
    "Seattle_ParksnRec[\"Number of trips Winter\"].hist()"
   ]
  },
  {
   "cell_type": "code",
   "execution_count": 14,
   "id": "b5b21726",
   "metadata": {},
   "outputs": [
    {
     "data": {
      "text/plain": [
       "<AxesSubplot:xlabel='Number of trips Winter', ylabel='Count'>"
      ]
     },
     "execution_count": 14,
     "metadata": {},
     "output_type": "execute_result"
    },
    {
     "data": {
      "image/png": "[encoded data removed]",
      "text/plain": [
       "<Figure size 432x288 with 1 Axes>"
      ]
     },
     "metadata": {
      "needs_background": "light"
     },
     "output_type": "display_data"
    }
   ],
   "source": [
    "sns.histplot(Seattle_ParksnRec[\"Number of trips Winter\"])\n",
    "# positively skewed"
   ]
  },
  {
   "cell_type": "code",
   "execution_count": 16,
   "id": "326732f0",
   "metadata": {},
   "outputs": [],
   "source": [
    "Seattle_ParksnRec['Number of trips WinterSQRT'] = np.sqrt(Seattle_ParksnRec['Number of trips Winter'])"
   ]
  },
  {
   "cell_type": "code",
   "execution_count": 17,
   "id": "dade05c3",
   "metadata": {},
   "outputs": [
    {
     "data": {
      "text/plain": [
       "<AxesSubplot:xlabel='Number of trips WinterSQRT', ylabel='Count'>"
      ]
     },
     "execution_count": 17,
     "metadata": {},
     "output_type": "execute_result"
    },
    {
     "data": {
      "image/png": "[encoded data removed]",
      "text/plain": [
       "<Figure size 432x288 with 1 Axes>"
      ]
     },
     "metadata": {
      "needs_background": "light"
     },
     "output_type": "display_data"
    }
   ],
   "source": [
    "sns.histplot(Seattle_ParksnRec[\"Number of trips WinterSQRT\"])"
   ]
  },
  {
   "cell_type": "markdown",
   "id": "9ad3f520",
   "metadata": {},
   "source": [
    "### Transforming Positively Skewed Data using np.sqrt function to make more normal\n"
   ]
  },
  {
   "cell_type": "markdown",
   "id": "84ca1304",
   "metadata": {},
   "source": [
    "# Number of participants Winter"
   ]
  },
  {
   "cell_type": "code",
   "execution_count": 20,
   "id": "eccf2680",
   "metadata": {},
   "outputs": [
    {
     "data": {
      "text/plain": [
       "<AxesSubplot:>"
      ]
     },
     "execution_count": 20,
     "metadata": {},
     "output_type": "execute_result"
    },
    {
     "data": {
      "image/png": "[encoded data removed]",
      "text/plain": [
       "<Figure size 432x288 with 1 Axes>"
      ]
     },
     "metadata": {
      "needs_background": "light"
     },
     "output_type": "display_data"
    }
   ],
   "source": [
    "Seattle_ParksnRec[\"Number of participants Winter\"].hist()"
   ]
  },
  {
   "cell_type": "code",
   "execution_count": 21,
   "id": "f858e040",
   "metadata": {},
   "outputs": [
    {
     "data": {
      "text/plain": [
       "<AxesSubplot:xlabel='Number of participants Winter', ylabel='Count'>"
      ]
     },
     "execution_count": 21,
     "metadata": {},
     "output_type": "execute_result"
    },
    {
     "data": {
      "image/png": "[encoded data removed]",
      "text/plain": [
       "<Figure size 432x288 with 1 Axes>"
      ]
     },
     "metadata": {
      "needs_background": "light"
     },
     "output_type": "display_data"
    }
   ],
   "source": [
    "sns.histplot(Seattle_ParksnRec[\"Number of participants Winter\"])\n",
    "# positively skewed"
   ]
  },
  {
   "cell_type": "code",
   "execution_count": 22,
   "id": "0da0e756",
   "metadata": {},
   "outputs": [
    {
     "data": {
      "text/plain": [
       "<AxesSubplot:xlabel='Number of participants WinterSQRT', ylabel='Count'>"
      ]
     },
     "execution_count": 22,
     "metadata": {},
     "output_type": "execute_result"
    },
    {
     "data": {
      "image/png": "[encoded data removed]",
      "text/plain": [
       "<Figure size 432x288 with 1 Axes>"
      ]
     },
     "metadata": {
      "needs_background": "light"
     },
     "output_type": "display_data"
    }
   ],
   "source": [
    "Seattle_ParksnRec['Number of participants WinterSQRT'] = np.sqrt(Seattle_ParksnRec['Number of participants Winter'])\n",
    "sns.histplot(Seattle_ParksnRec[\"Number of participants WinterSQRT\"])"
   ]
  },
  {
   "cell_type": "markdown",
   "id": "538d45ce",
   "metadata": {},
   "source": [
    "### Transforming Positively Skewed Data using np.sqrt function to make more normal\n",
    "#### Used log and that made it a negative skew, therefore this is the last transformation"
   ]
  },
  {
   "cell_type": "markdown",
   "id": "9623b20e",
   "metadata": {},
   "source": [
    "# Number of trips Spring"
   ]
  },
  {
   "cell_type": "code",
   "execution_count": 36,
   "id": "9b6be18e",
   "metadata": {},
   "outputs": [
    {
     "data": {
      "text/plain": [
       "<AxesSubplot:>"
      ]
     },
     "execution_count": 36,
     "metadata": {},
     "output_type": "execute_result"
    },
    {
     "data": {
      "image/png": "[encoded data removed]",
      "text/plain": [
       "<Figure size 432x288 with 1 Axes>"
      ]
     },
     "metadata": {
      "needs_background": "light"
     },
     "output_type": "display_data"
    }
   ],
   "source": [
    "Seattle_ParksnRec[\"Number of trips Spring\"].hist()"
   ]
  },
  {
   "cell_type": "code",
   "execution_count": 35,
   "id": "5fb79253",
   "metadata": {},
   "outputs": [
    {
     "data": {
      "text/plain": [
       "<AxesSubplot:xlabel='Number of trips Spring', ylabel='Count'>"
      ]
     },
     "execution_count": 35,
     "metadata": {},
     "output_type": "execute_result"
    },
    {
     "data": {
      "image/png": "[encoded data removed]",
      "text/plain": [
       "<Figure size 432x288 with 1 Axes>"
      ]
     },
     "metadata": {
      "needs_background": "light"
     },
     "output_type": "display_data"
    }
   ],
   "source": [
    "sns.histplot(Seattle_ParksnRec[\"Number of trips Spring\"])\n",
    "# positively skewed"
   ]
  },
  {
   "cell_type": "code",
   "execution_count": 37,
   "id": "c2fbacb9",
   "metadata": {},
   "outputs": [
    {
     "data": {
      "text/plain": [
       "<AxesSubplot:xlabel='Number of trips SpringSQRT', ylabel='Count'>"
      ]
     },
     "execution_count": 37,
     "metadata": {},
     "output_type": "execute_result"
    },
    {
     "data": {
      "image/png": "[encoded data removed]",
      "text/plain": [
       "<Figure size 432x288 with 1 Axes>"
      ]
     },
     "metadata": {
      "needs_background": "light"
     },
     "output_type": "display_data"
    }
   ],
   "source": [
    "Seattle_ParksnRec['Number of trips SpringSQRT'] = np.sqrt(Seattle_ParksnRec['Number of trips Spring'])\n",
    "sns.histplot(Seattle_ParksnRec[\"Number of trips SpringSQRT\"])"
   ]
  },
  {
   "cell_type": "code",
   "execution_count": 38,
   "id": "5e31baa6",
   "metadata": {},
   "outputs": [
    {
     "data": {
      "text/plain": [
       "<AxesSubplot:xlabel='Number of trips SpringSQRTLOG', ylabel='Count'>"
      ]
     },
     "execution_count": 38,
     "metadata": {},
     "output_type": "execute_result"
    },
    {
     "data": {
      "image/png": "[encoded data removed]",
      "text/plain": [
       "<Figure size 432x288 with 1 Axes>"
      ]
     },
     "metadata": {
      "needs_background": "light"
     },
     "output_type": "display_data"
    }
   ],
   "source": [
    "Seattle_ParksnRec['Number of trips SpringSQRTLOG'] = np.log(Seattle_ParksnRec['Number of trips SpringSQRT'])\n",
    "sns.histplot(Seattle_ParksnRec[\"Number of trips SpringSQRTLOG\"])"
   ]
  },
  {
   "cell_type": "markdown",
   "id": "5722554a",
   "metadata": {},
   "source": [
    "### Transforming Positively Skewed Data using np.sqrt and log function to make more normal"
   ]
  },
  {
   "cell_type": "markdown",
   "id": "35317aee",
   "metadata": {},
   "source": [
    "# Number of participants Spring"
   ]
  },
  {
   "cell_type": "code",
   "execution_count": 39,
   "id": "fac9874d",
   "metadata": {},
   "outputs": [
    {
     "data": {
      "text/plain": [
       "<AxesSubplot:>"
      ]
     },
     "execution_count": 39,
     "metadata": {},
     "output_type": "execute_result"
    },
    {
     "data": {
      "image/png": "[encoded data removed]",
      "text/plain": [
       "<Figure size 432x288 with 1 Axes>"
      ]
     },
     "metadata": {
      "needs_background": "light"
     },
     "output_type": "display_data"
    }
   ],
   "source": [
    "Seattle_ParksnRec[\"Number of participants Spring\"].hist()"
   ]
  },
  {
   "cell_type": "code",
   "execution_count": 40,
   "id": "02773b6a",
   "metadata": {},
   "outputs": [
    {
     "data": {
      "text/plain": [
       "<AxesSubplot:xlabel='Number of participants Spring', ylabel='Count'>"
      ]
     },
     "execution_count": 40,
     "metadata": {},
     "output_type": "execute_result"
    },
    {
     "data": {
      "image/png": "[encoded data removed]",
      "text/plain": [
       "<Figure size 432x288 with 1 Axes>"
      ]
     },
     "metadata": {
      "needs_background": "light"
     },
     "output_type": "display_data"
    }
   ],
   "source": [
    "sns.histplot(Seattle_ParksnRec[\"Number of participants Spring\"])\n",
    "# positively skewed"
   ]
  },
  {
   "cell_type": "code",
   "execution_count": 41,
   "id": "1e2be2d2",
   "metadata": {},
   "outputs": [
    {
     "data": {
      "text/plain": [
       "<AxesSubplot:xlabel='Number of participants SpringSQRT', ylabel='Count'>"
      ]
     },
     "execution_count": 41,
     "metadata": {},
     "output_type": "execute_result"
    },
    {
     "data": {
      "image/png": "[encoded data removed]",
      "text/plain": [
       "<Figure size 432x288 with 1 Axes>"
      ]
     },
     "metadata": {
      "needs_background": "light"
     },
     "output_type": "display_data"
    }
   ],
   "source": [
    "Seattle_ParksnRec['Number of participants SpringSQRT'] = np.sqrt(Seattle_ParksnRec['Number of participants Spring'])\n",
    "sns.histplot(Seattle_ParksnRec[\"Number of participants SpringSQRT\"])"
   ]
  },
  {
   "cell_type": "markdown",
   "id": "4f448c8a",
   "metadata": {},
   "source": [
    "### Transforming Positively Skewed Data using np.sqrt function to make more normal\n",
    "#### Used log and that made it a negative skew, therefore this is the last transformation"
   ]
  },
  {
   "cell_type": "markdown",
   "id": "a5975352",
   "metadata": {},
   "source": [
    "# Number of trips Summer"
   ]
  },
  {
   "cell_type": "code",
   "execution_count": 44,
   "id": "bd14dec6",
   "metadata": {},
   "outputs": [
    {
     "data": {
      "text/plain": [
       "<AxesSubplot:>"
      ]
     },
     "execution_count": 44,
     "metadata": {},
     "output_type": "execute_result"
    },
    {
     "data": {
      "image/png": "[encoded data removed]",
      "text/plain": [
       "<Figure size 432x288 with 1 Axes>"
      ]
     },
     "metadata": {
      "needs_background": "light"
     },
     "output_type": "display_data"
    }
   ],
   "source": [
    "Seattle_ParksnRec[\"Number of trips Summer\"].hist()"
   ]
  },
  {
   "cell_type": "code",
   "execution_count": 45,
   "id": "1e3b9027",
   "metadata": {},
   "outputs": [
    {
     "data": {
      "text/plain": [
       "<AxesSubplot:xlabel='Number of trips Summer', ylabel='Count'>"
      ]
     },
     "execution_count": 45,
     "metadata": {},
     "output_type": "execute_result"
    },
    {
     "data": {
      "image/png": "[encoded data removed]",
      "text/plain": [
       "<Figure size 432x288 with 1 Axes>"
      ]
     },
     "metadata": {
      "needs_background": "light"
     },
     "output_type": "display_data"
    }
   ],
   "source": [
    "sns.histplot(Seattle_ParksnRec[\"Number of trips Summer\"])"
   ]
  },
  {
   "cell_type": "code",
   "execution_count": 46,
   "id": "1b4ccc7d",
   "metadata": {},
   "outputs": [
    {
     "data": {
      "text/plain": [
       "<AxesSubplot:xlabel='Number of trips SummerLOG', ylabel='Count'>"
      ]
     },
     "execution_count": 46,
     "metadata": {},
     "output_type": "execute_result"
    },
    {
     "data": {
      "image/png": "[encoded data removed]",
      "text/plain": [
       "<Figure size 432x288 with 1 Axes>"
      ]
     },
     "metadata": {
      "needs_background": "light"
     },
     "output_type": "display_data"
    }
   ],
   "source": [
    "Seattle_ParksnRec['Number of trips SummerLOG'] = np.log(Seattle_ParksnRec['Number of trips Summer'])\n",
    "sns.histplot(Seattle_ParksnRec[\"Number of trips SummerLOG\"])"
   ]
  },
  {
   "cell_type": "markdown",
   "id": "e8ff6565",
   "metadata": {},
   "source": [
    "### Used log and it transformed even though the data was pretty good before using log. Log showed an outlier in the data."
   ]
  },
  {
   "cell_type": "markdown",
   "id": "c072ac9c",
   "metadata": {},
   "source": [
    "# Number of participants Summer"
   ]
  },
  {
   "cell_type": "code",
   "execution_count": 47,
   "id": "b7762f1a",
   "metadata": {},
   "outputs": [
    {
     "data": {
      "text/plain": [
       "<AxesSubplot:>"
      ]
     },
     "execution_count": 47,
     "metadata": {},
     "output_type": "execute_result"
    },
    {
     "data": {
      "image/png": "[encoded data removed]",
      "text/plain": [
       "<Figure size 432x288 with 1 Axes>"
      ]
     },
     "metadata": {
      "needs_background": "light"
     },
     "output_type": "display_data"
    }
   ],
   "source": [
    "Seattle_ParksnRec[\"Number of participants Summer\"].hist()"
   ]
  },
  {
   "cell_type": "code",
   "execution_count": 48,
   "id": "d8e2d523",
   "metadata": {},
   "outputs": [
    {
     "data": {
      "text/plain": [
       "<AxesSubplot:xlabel='Number of participants Summer', ylabel='Count'>"
      ]
     },
     "execution_count": 48,
     "metadata": {},
     "output_type": "execute_result"
    },
    {
     "data": {
      "image/png": "[encoded data removed]",
      "text/plain": [
       "<Figure size 432x288 with 1 Axes>"
      ]
     },
     "metadata": {
      "needs_background": "light"
     },
     "output_type": "display_data"
    }
   ],
   "source": [
    "sns.histplot(Seattle_ParksnRec[\"Number of participants Summer\"])"
   ]
  },
  {
   "cell_type": "code",
   "execution_count": 49,
   "id": "72c2de3f",
   "metadata": {},
   "outputs": [
    {
     "data": {
      "text/plain": [
       "<AxesSubplot:xlabel='Number of participants SummerSQRT', ylabel='Count'>"
      ]
     },
     "execution_count": 49,
     "metadata": {},
     "output_type": "execute_result"
    },
    {
     "data": {
      "image/png": "[encoded data removed]",
      "text/plain": [
       "<Figure size 432x288 with 1 Axes>"
      ]
     },
     "metadata": {
      "needs_background": "light"
     },
     "output_type": "display_data"
    }
   ],
   "source": [
    "Seattle_ParksnRec['Number of participants SummerSQRT'] = np.sqrt(Seattle_ParksnRec['Number of participants Summer'])\n",
    "sns.histplot(Seattle_ParksnRec[\"Number of participants SummerSQRT\"])"
   ]
  },
  {
   "cell_type": "markdown",
   "id": "e462ebed",
   "metadata": {},
   "source": [
    "### Transforming Positively Skewed Data using np.sqrt function to make more normal\n",
    "#### Used log and that made it a negative skew, therefore this is the last transformation"
   ]
  }
 ],
 "metadata": {
  "kernelspec": {
   "display_name": "Python 3",
   "language": "python",
   "name": "python3"
  },
  "language_info": {
   "codemirror_mode": {
    "name": "ipython",
    "version": 3
   },
   "file_extension": ".py",
   "mimetype": "text/x-python",
   "name": "python",
   "nbconvert_exporter": "python",
   "pygments_lexer": "ipython3",
   "version": "3.8.8"
  }
 },
 "nbformat": 4,
 "nbformat_minor": 5
}
