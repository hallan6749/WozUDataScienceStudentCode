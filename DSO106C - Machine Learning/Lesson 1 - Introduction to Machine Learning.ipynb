{
 "cells": [
  {
   "cell_type": "code",
   "execution_count": 1,
   "id": "cecf65f8",
   "metadata": {},
   "outputs": [],
   "source": [
    "# add because this is what we used during lesson 1\n",
    "import pandas as pd\n",
    "from sklearn.linear_model import LinearRegression\n",
    "from sklearn.model_selection import train_test_split\n",
    "import matplotlib.pyplot as plt\n",
    "%matplotlib inline\n",
    "from sklearn import metrics\n",
    "import numpy as np"
   ]
  },
  {
   "cell_type": "code",
   "execution_count": 2,
   "id": "da0b912c",
   "metadata": {},
   "outputs": [],
   "source": [
    "# add per the hands on page\n",
    "import seaborn as sns\n",
    "from sklearn.utils import shuffle\n",
    "Diamonds = shuffle(sns.load_dataset('diamonds'))"
   ]
  },
  {
   "cell_type": "code",
   "execution_count": 3,
   "id": "46835725",
   "metadata": {},
   "outputs": [],
   "source": [
    "# add data\n",
    "Diamonds = pd.read_csv('/Users/music/Desktop/Diamonds.csv')"
   ]
  },
  {
   "cell_type": "code",
   "execution_count": null,
   "id": "897c25f7",
   "metadata": {},
   "outputs": [],
   "source": [
    "# using the variables (carat, cut, color, clarity) to predict the price of diamonds"
   ]
  },
  {
   "cell_type": "code",
   "execution_count": 29,
   "id": "27b7b45a",
   "metadata": {},
   "outputs": [
    {
     "name": "stdout",
     "output_type": "stream",
     "text": [
      "['Ideal' 'Premium' 'Good' 'Very Good' 'Fair']\n"
     ]
    }
   ],
   "source": [
    "# renaming values into numbers for the cut column for Linear Regression Model\n",
    "print(Diamonds['cut'].unique())"
   ]
  },
  {
   "cell_type": "code",
   "execution_count": 34,
   "id": "60d21f96",
   "metadata": {},
   "outputs": [],
   "source": [
    "Diamonds = Diamonds.replace(['Fair'],'1')\n"
   ]
  },
  {
   "cell_type": "code",
   "execution_count": 37,
   "id": "3bbc9316",
   "metadata": {},
   "outputs": [],
   "source": [
    "Diamonds = Diamonds.replace(['Very Good'],'2')\n"
   ]
  },
  {
   "cell_type": "code",
   "execution_count": 38,
   "id": "f0701e75",
   "metadata": {},
   "outputs": [],
   "source": [
    "Diamonds = Diamonds.replace(['Good'],'3')\n"
   ]
  },
  {
   "cell_type": "code",
   "execution_count": 39,
   "id": "b643b3c5",
   "metadata": {},
   "outputs": [],
   "source": [
    "Diamonds = Diamonds.replace(['Premium'],'4')\n"
   ]
  },
  {
   "cell_type": "code",
   "execution_count": 40,
   "id": "98c36c02",
   "metadata": {},
   "outputs": [],
   "source": [
    "Diamonds = Diamonds.replace(['Ideal'],'5')\n"
   ]
  },
  {
   "cell_type": "code",
   "execution_count": 41,
   "id": "938615d0",
   "metadata": {},
   "outputs": [
    {
     "name": "stdout",
     "output_type": "stream",
     "text": [
      "['5' '4' '3' '2' '1']\n"
     ]
    }
   ],
   "source": [
    "print(Diamonds['cut'].unique())"
   ]
  },
  {
   "cell_type": "code",
   "execution_count": null,
   "id": "7313608a",
   "metadata": {},
   "outputs": [],
   "source": [
    "print(Diamonds.head)"
   ]
  },
  {
   "cell_type": "code",
   "execution_count": 43,
   "id": "6428a011",
   "metadata": {},
   "outputs": [
    {
     "name": "stdout",
     "output_type": "stream",
     "text": [
      "['E' 'I' 'J' 'H' 'F' 'G' 'D']\n"
     ]
    }
   ],
   "source": [
    "## renaming values into numbers for the COLOR column for Linear Regression Model\n",
    "print(Diamonds['color'].unique())"
   ]
  },
  {
   "cell_type": "code",
   "execution_count": 45,
   "id": "459f4140",
   "metadata": {},
   "outputs": [],
   "source": [
    "Diamonds = Diamonds.replace(['E'],'1')\n",
    "Diamonds = Diamonds.replace(['I'],'2')\n",
    "Diamonds = Diamonds.replace(['J'],'3')\n",
    "Diamonds = Diamonds.replace(['H'],'4')\n",
    "Diamonds = Diamonds.replace(['F'],'5')\n",
    "Diamonds = Diamonds.replace(['G'],'6')\n",
    "Diamonds = Diamonds.replace(['D'],'7')\n"
   ]
  },
  {
   "cell_type": "code",
   "execution_count": 46,
   "id": "ca9f46db",
   "metadata": {},
   "outputs": [
    {
     "name": "stdout",
     "output_type": "stream",
     "text": [
      "['1' '2' '3' '4' '5' '6' '7']\n"
     ]
    }
   ],
   "source": [
    "print(Diamonds['color'].unique())"
   ]
  },
  {
   "cell_type": "code",
   "execution_count": 47,
   "id": "84d94919",
   "metadata": {},
   "outputs": [
    {
     "name": "stdout",
     "output_type": "stream",
     "text": [
      "['SI2' 'SI1' 'VS1' 'VS2' 'VVS2' 'VVS1' 'I1' 'IF']\n"
     ]
    }
   ],
   "source": [
    "# renaming values into numbers for the clarity column for Linear Regression Model\n",
    "print(Diamonds['clarity'].unique())"
   ]
  },
  {
   "cell_type": "code",
   "execution_count": 48,
   "id": "23236fa5",
   "metadata": {},
   "outputs": [],
   "source": [
    "Diamonds = Diamonds.replace(['SI2'],'1')\n",
    "Diamonds = Diamonds.replace(['SI1'],'2')\n",
    "Diamonds = Diamonds.replace(['VS1'],'3')\n",
    "Diamonds = Diamonds.replace(['VS2'],'4')\n",
    "Diamonds = Diamonds.replace(['VVS2'],'5')\n",
    "Diamonds = Diamonds.replace(['VVS1'],'6')\n",
    "Diamonds = Diamonds.replace(['I1'],'7')\n",
    "Diamonds = Diamonds.replace(['IF'],'8')"
   ]
  },
  {
   "cell_type": "code",
   "execution_count": 49,
   "id": "1350d32f",
   "metadata": {},
   "outputs": [
    {
     "name": "stdout",
     "output_type": "stream",
     "text": [
      "['1' '2' '3' '4' '5' '6' '7' '8']\n"
     ]
    }
   ],
   "source": [
    "print(Diamonds['clarity'].unique())"
   ]
  },
  {
   "cell_type": "code",
   "execution_count": 52,
   "id": "c72be0e3",
   "metadata": {},
   "outputs": [],
   "source": [
    "x = Diamonds[['cut', 'carat', 'color', 'clarity']]\n",
    "y = Diamonds['price']"
   ]
  },
  {
   "cell_type": "code",
   "execution_count": null,
   "id": "6a5965fd",
   "metadata": {},
   "outputs": [],
   "source": [
    "# Train Test Split"
   ]
  },
  {
   "cell_type": "code",
   "execution_count": 53,
   "id": "1665c7f8",
   "metadata": {},
   "outputs": [],
   "source": [
    "x_train, x_test, y_train, y_test = train_test_split(x,y, test_size = .4, random_state=101)"
   ]
  },
  {
   "cell_type": "code",
   "execution_count": 54,
   "id": "038f097d",
   "metadata": {},
   "outputs": [
    {
     "name": "stdout",
     "output_type": "stream",
     "text": [
      "(32364, 4) (32364,)\n",
      "(21576, 4) (21576,)\n"
     ]
    }
   ],
   "source": [
    "print(x_train.shape, y_train.shape)\n",
    "print(x_test.shape, y_test.shape)"
   ]
  },
  {
   "cell_type": "code",
   "execution_count": 55,
   "id": "2cd921af",
   "metadata": {},
   "outputs": [
    {
     "data": {
      "text/plain": [
       "LinearRegression()"
      ]
     },
     "execution_count": 55,
     "metadata": {},
     "output_type": "execute_result"
    }
   ],
   "source": [
    "#Linear Regression Model\n",
    "lm = LinearRegression()\n",
    "lm.fit(x_train, y_train)"
   ]
  },
  {
   "cell_type": "code",
   "execution_count": 56,
   "id": "456c738d",
   "metadata": {},
   "outputs": [
    {
     "data": {
      "text/plain": [
       "array([1837.80541411, 5565.29003319,   96.49894298, ..., 4678.49619797,\n",
       "       5541.21156527, 1476.50102026])"
      ]
     },
     "execution_count": 56,
     "metadata": {},
     "output_type": "execute_result"
    }
   ],
   "source": [
    "#Examine Predictions for the diamond price\n",
    "predictions = lm.predict(x_test)\n",
    "predictions"
   ]
  },
  {
   "cell_type": "code",
   "execution_count": 57,
   "id": "3c3a9134",
   "metadata": {},
   "outputs": [
    {
     "data": {
      "text/plain": [
       "<matplotlib.collections.PathCollection at 0x292a64e46a0>"
      ]
     },
     "execution_count": 57,
     "metadata": {},
     "output_type": "execute_result"
    },
    {
     "data": {
      "image/png": "[encoded data removed]",
      "text/plain": [
       "<Figure size 432x288 with 1 Axes>"
      ]
     },
     "metadata": {
      "needs_background": "light"
     },
     "output_type": "display_data"
    }
   ],
   "source": [
    "plt.scatter(y_test, predictions)\n"
   ]
  },
  {
   "cell_type": "code",
   "execution_count": 58,
   "id": "c4a63f6c",
   "metadata": {},
   "outputs": [
    {
     "name": "stdout",
     "output_type": "stream",
     "text": [
      "Score: 0.8679813053205264\n"
     ]
    }
   ],
   "source": [
    "#Accuracy Score of 86.8%\n",
    "print(\"Score:\", lm.score(x_test, y_test))"
   ]
  },
  {
   "cell_type": "code",
   "execution_count": 59,
   "id": "5f960266",
   "metadata": {},
   "outputs": [],
   "source": [
    "#Examining Error\n",
    "#numbers may not be accorate as I had to Pseudocode string data into numbers to make the linear regression table work"
   ]
  },
  {
   "cell_type": "code",
   "execution_count": 60,
   "id": "507aa6b5",
   "metadata": {},
   "outputs": [
    {
     "data": {
      "text/plain": [
       "916.3934560513005"
      ]
     },
     "execution_count": 60,
     "metadata": {},
     "output_type": "execute_result"
    }
   ],
   "source": [
    "#Mean Absolute Error\n",
    "metrics.mean_absolute_error(y_test, predictions)\n",
    "#High Error rate"
   ]
  },
  {
   "cell_type": "code",
   "execution_count": 61,
   "id": "cf915c5b",
   "metadata": {},
   "outputs": [
    {
     "data": {
      "text/plain": [
       "2097264.116568206"
      ]
     },
     "execution_count": 61,
     "metadata": {},
     "output_type": "execute_result"
    }
   ],
   "source": [
    "#Mean Squared Error\n",
    "metrics.mean_squared_error(y_test, predictions)"
   ]
  },
  {
   "cell_type": "code",
   "execution_count": 62,
   "id": "59923210",
   "metadata": {},
   "outputs": [
    {
     "data": {
      "text/plain": [
       "1448.1933975019379"
      ]
     },
     "execution_count": 62,
     "metadata": {},
     "output_type": "execute_result"
    }
   ],
   "source": [
    "#Root Mean Squared Error (RMSE)\n",
    "np.sqrt(metrics.mean_squared_error(y_test, predictions))"
   ]
  },
  {
   "cell_type": "code",
   "execution_count": 63,
   "id": "d8df2e29",
   "metadata": {},
   "outputs": [],
   "source": [
    "#k-Fold Cross Validation in Python\n",
    "from sklearn.model_selection import KFold\n",
    "from sklearn.model_selection import cross_val_score"
   ]
  },
  {
   "cell_type": "code",
   "execution_count": 64,
   "id": "9353aa85",
   "metadata": {},
   "outputs": [
    {
     "name": "stdout",
     "output_type": "stream",
     "text": [
      "train: [    0     1     4 ... 53937 53938 53939], test: [    2     3     8 ... 53932 53934 53935]\n",
      "train: [    1     2     3 ... 53935 53938 53939], test: [    0     4     6 ... 53933 53936 53937]\n",
      "train: [    0     2     3 ... 53935 53936 53937], test: [    1     5     9 ... 53931 53938 53939]\n"
     ]
    },
    {
     "name": "stderr",
     "output_type": "stream",
     "text": [
      "C:\\Users\\music\\anaconda3\\lib\\site-packages\\sklearn\\utils\\validation.py:70: FutureWarning: Pass shuffle=True, random_state=1 as keyword args. From version 1.0 (renaming of 0.25) passing these as positional arguments will result in an error\n",
      "  warnings.warn(f\"Pass {args_msg} as keyword args. From version \"\n"
     ]
    }
   ],
   "source": [
    "#Create the folds\n",
    "kfold = KFold(3, True, 1)\n",
    "for train, test in kfold.split(x,y):\n",
    "    print('train: %s, test: %s' % (train,test))"
   ]
  },
  {
   "cell_type": "code",
   "execution_count": 65,
   "id": "7549d7c3",
   "metadata": {},
   "outputs": [
    {
     "name": "stdout",
     "output_type": "stream",
     "text": [
      "[ 0.05105015  0.71683548 -0.92644159]\n"
     ]
    }
   ],
   "source": [
    "print(cross_val_score(lm, x,y, cv=3))\n",
    "# The percentages vary between -93% to 71% using data sets for testing scores"
   ]
  }
 ],
 "metadata": {
  "kernelspec": {
   "display_name": "Python 3",
   "language": "python",
   "name": "python3"
  },
  "language_info": {
   "codemirror_mode": {
    "name": "ipython",
    "version": 3
   },
   "file_extension": ".py",
   "mimetype": "text/x-python",
   "name": "python",
   "nbconvert_exporter": "python",
   "pygments_lexer": "ipython3",
   "version": "3.8.8"
  }
 },
 "nbformat": 4,
 "nbformat_minor": 5
}
