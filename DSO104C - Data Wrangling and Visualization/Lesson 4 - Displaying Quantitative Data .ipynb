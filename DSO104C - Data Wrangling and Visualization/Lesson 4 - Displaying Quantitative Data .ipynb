{
 "cells": [
  {
   "cell_type": "code",
   "execution_count": 32,
   "id": "daa3be78",
   "metadata": {},
   "outputs": [],
   "source": [
    "import pandas as pd"
   ]
  },
  {
   "cell_type": "code",
   "execution_count": 33,
   "id": "c6b69a0c",
   "metadata": {},
   "outputs": [],
   "source": [
    "import seaborn as sns"
   ]
  },
  {
   "cell_type": "code",
   "execution_count": 51,
   "id": "07143e42",
   "metadata": {},
   "outputs": [],
   "source": [
    "import matplotlib.mlab as mlab"
   ]
  },
  {
   "cell_type": "code",
   "execution_count": 50,
   "id": "760acf7e",
   "metadata": {},
   "outputs": [],
   "source": [
    "import matplotlib.pyplot as plt"
   ]
  },
  {
   "cell_type": "markdown",
   "id": "7000eea5",
   "metadata": {},
   "source": [
    "# Part 1\n",
    "## Here's a listing of the number of power boats registered in Florida (in the 1000's) for each year, 35 years worth of data. Tinker with the settings until you have created a histogram with 7 bars."
   ]
  },
  {
   "cell_type": "code",
   "execution_count": 36,
   "id": "f07af8c5",
   "metadata": {},
   "outputs": [
    {
     "data": {
      "text/html": [
       "<div>\n",
       "<style scoped>\n",
       "    .dataframe tbody tr th:only-of-type {\n",
       "        vertical-align: middle;\n",
       "    }\n",
       "\n",
       "    .dataframe tbody tr th {\n",
       "        vertical-align: top;\n",
       "    }\n",
       "\n",
       "    .dataframe thead th {\n",
       "        text-align: right;\n",
       "    }\n",
       "</style>\n",
       "<table border=\"1\" class=\"dataframe\">\n",
       "  <thead>\n",
       "    <tr style=\"text-align: right;\">\n",
       "      <th></th>\n",
       "      <th>Power Boats (in 1000's)</th>\n",
       "    </tr>\n",
       "  </thead>\n",
       "  <tbody>\n",
       "    <tr>\n",
       "      <th>0</th>\n",
       "      <td>436</td>\n",
       "    </tr>\n",
       "    <tr>\n",
       "      <th>1</th>\n",
       "      <td>449</td>\n",
       "    </tr>\n",
       "    <tr>\n",
       "      <th>2</th>\n",
       "      <td>470</td>\n",
       "    </tr>\n",
       "    <tr>\n",
       "      <th>3</th>\n",
       "      <td>487</td>\n",
       "    </tr>\n",
       "    <tr>\n",
       "      <th>4</th>\n",
       "      <td>502</td>\n",
       "    </tr>\n",
       "  </tbody>\n",
       "</table>\n",
       "</div>"
      ],
      "text/plain": [
       "   Power Boats (in 1000's)\n",
       "0                      436\n",
       "1                      449\n",
       "2                      470\n",
       "3                      487\n",
       "4                      502"
      ]
     },
     "execution_count": 36,
     "metadata": {},
     "output_type": "execute_result"
    }
   ],
   "source": [
    "# Reading csv\n",
    "L3P1 = pd.read_csv('C:/Users/music/Desktop/L3P1.csv')\n",
    "L3P1.head()"
   ]
  },
  {
   "cell_type": "code",
   "execution_count": 59,
   "id": "df4cb866",
   "metadata": {},
   "outputs": [],
   "source": [
    "# changing column for histogram\n",
    "L3P1.columns = ['Power Boats']"
   ]
  },
  {
   "cell_type": "code",
   "execution_count": 60,
   "id": "87b9e0ef",
   "metadata": {},
   "outputs": [
    {
     "data": {
      "text/plain": [
       "Index(['Power Boats'], dtype='object')"
      ]
     },
     "execution_count": 60,
     "metadata": {},
     "output_type": "execute_result"
    }
   ],
   "source": [
    "L3P1.columns"
   ]
  },
  {
   "cell_type": "markdown",
   "id": "4ecbea39",
   "metadata": {},
   "source": [
    "## Histogram in pandas"
   ]
  },
  {
   "cell_type": "code",
   "execution_count": 61,
   "id": "910816f8",
   "metadata": {},
   "outputs": [
    {
     "data": {
      "text/plain": [
       "<AxesSubplot:>"
      ]
     },
     "execution_count": 61,
     "metadata": {},
     "output_type": "execute_result"
    },
    {
     "data": {
      "image/png": "[encoded data removed]",
      "text/plain": [
       "<Figure size 432x288 with 1 Axes>"
      ]
     },
     "metadata": {
      "needs_background": "light"
     },
     "output_type": "display_data"
    }
   ],
   "source": [
    "L3P1['Power Boats'].hist()"
   ]
  },
  {
   "cell_type": "markdown",
   "id": "1f188835",
   "metadata": {},
   "source": [
    "## Histogram in Seaborn"
   ]
  },
  {
   "cell_type": "code",
   "execution_count": 67,
   "id": "19167b72",
   "metadata": {},
   "outputs": [
    {
     "data": {
      "text/plain": [
       "<seaborn.axisgrid.FacetGrid at 0x177e5c878e0>"
      ]
     },
     "execution_count": 67,
     "metadata": {},
     "output_type": "execute_result"
    },
    {
     "data": {
      "image/png": "[encoded data removed]",
      "text/plain": [
       "<Figure size 360x360 with 1 Axes>"
      ]
     },
     "metadata": {
      "needs_background": "light"
     },
     "output_type": "display_data"
    }
   ],
   "source": [
    "sns.displot(L3P1['Power Boats'])"
   ]
  },
  {
   "cell_type": "markdown",
   "id": "fcef5134",
   "metadata": {},
   "source": [
    "## Histogram in matplotlib"
   ]
  },
  {
   "cell_type": "code",
   "execution_count": 71,
   "id": "c426a319",
   "metadata": {},
   "outputs": [
    {
     "data": {
      "image/png": "[encoded data removed]",
      "text/plain": [
       "<Figure size 432x288 with 1 Axes>"
      ]
     },
     "metadata": {
      "needs_background": "light"
     },
     "output_type": "display_data"
    }
   ],
   "source": [
    "num_bins = 7\n",
    "n, bins, patches = plt.hist(L3P1['Power Boats'], num_bins, facecolor='blue', alpha=.9)\n",
    "plt.xlabel('Power Boats')\n",
    "plt.ylabel('Frequency')\n",
    "plt.title('Power Boats in 1000s')\n",
    "plt.show()"
   ]
  },
  {
   "cell_type": "markdown",
   "id": "7bbb8fa1",
   "metadata": {},
   "source": [
    "# Report\n",
    "# There are more power boats in the 500s til the 1000s. "
   ]
  },
  {
   "cell_type": "markdown",
   "id": "0046f244",
   "metadata": {},
   "source": [
    "# Part 2\n",
    "## Use the following data to create a bar graph."
   ]
  },
  {
   "cell_type": "code",
   "execution_count": 68,
   "id": "9c3043b5",
   "metadata": {},
   "outputs": [
    {
     "data": {
      "text/html": [
       "<div>\n",
       "<style scoped>\n",
       "    .dataframe tbody tr th:only-of-type {\n",
       "        vertical-align: middle;\n",
       "    }\n",
       "\n",
       "    .dataframe tbody tr th {\n",
       "        vertical-align: top;\n",
       "    }\n",
       "\n",
       "    .dataframe thead th {\n",
       "        text-align: right;\n",
       "    }\n",
       "</style>\n",
       "<table border=\"1\" class=\"dataframe\">\n",
       "  <thead>\n",
       "    <tr style=\"text-align: right;\">\n",
       "      <th></th>\n",
       "      <th>Cars</th>\n",
       "    </tr>\n",
       "  </thead>\n",
       "  <tbody>\n",
       "    <tr>\n",
       "      <th>0</th>\n",
       "      <td>Mitsubishi</td>\n",
       "    </tr>\n",
       "    <tr>\n",
       "      <th>1</th>\n",
       "      <td>Mitsubishi</td>\n",
       "    </tr>\n",
       "    <tr>\n",
       "      <th>2</th>\n",
       "      <td>Dodge</td>\n",
       "    </tr>\n",
       "    <tr>\n",
       "      <th>3</th>\n",
       "      <td>Mitsubishi</td>\n",
       "    </tr>\n",
       "    <tr>\n",
       "      <th>4</th>\n",
       "      <td>Dodge</td>\n",
       "    </tr>\n",
       "  </tbody>\n",
       "</table>\n",
       "</div>"
      ],
      "text/plain": [
       "         Cars\n",
       "0  Mitsubishi\n",
       "1  Mitsubishi\n",
       "2       Dodge\n",
       "3  Mitsubishi\n",
       "4       Dodge"
      ]
     },
     "execution_count": 68,
     "metadata": {},
     "output_type": "execute_result"
    }
   ],
   "source": [
    "# Reading csv\n",
    "L3P2 = pd.read_csv('C:/Users/music/Desktop/L3P2.csv')\n",
    "L3P2.head()"
   ]
  },
  {
   "cell_type": "code",
   "execution_count": 76,
   "id": "1274ca5c",
   "metadata": {},
   "outputs": [
    {
     "data": {
      "text/plain": [
       "Index(['Cars'], dtype='object')"
      ]
     },
     "execution_count": 76,
     "metadata": {},
     "output_type": "execute_result"
    }
   ],
   "source": [
    "L3P2.columns"
   ]
  },
  {
   "cell_type": "code",
   "execution_count": 118,
   "id": "0254884f",
   "metadata": {},
   "outputs": [
    {
     "data": {
      "text/plain": [
       "Text(0, 0.5, 'Frequency')"
      ]
     },
     "execution_count": 118,
     "metadata": {},
     "output_type": "execute_result"
    },
    {
     "data": {
      "image/png": "[encoded data removed]",
      "text/plain": [
       "<Figure size 432x288 with 1 Axes>"
      ]
     },
     "metadata": {
      "needs_background": "light"
     },
     "output_type": "display_data"
    }
   ],
   "source": [
    "BarChart = L3P2['Cars'].value_counts().plot(kind='bar')\n",
    "BarChart.set_title(\"Car Brand Frequency\")\n",
    "BarChart.set_xlabel(\"Brand Categories\")\n",
    "BarChart.set_ylabel(\"Frequency\")"
   ]
  },
  {
   "cell_type": "markdown",
   "id": "a26a0715",
   "metadata": {},
   "source": [
    "# Report\n",
    "# The Jaguar has more cars on the road than any others and Datsun has the least about of cards on the road."
   ]
  },
  {
   "cell_type": "markdown",
   "id": "054fa0c0",
   "metadata": {},
   "source": [
    "# Part 3\n",
    "## Use the following data to create a stacked bar chart using either Python or R."
   ]
  },
  {
   "cell_type": "code",
   "execution_count": 52,
   "id": "5f895911",
   "metadata": {},
   "outputs": [
    {
     "data": {
      "text/html": [
       "<div>\n",
       "<style scoped>\n",
       "    .dataframe tbody tr th:only-of-type {\n",
       "        vertical-align: middle;\n",
       "    }\n",
       "\n",
       "    .dataframe tbody tr th {\n",
       "        vertical-align: top;\n",
       "    }\n",
       "\n",
       "    .dataframe thead th {\n",
       "        text-align: right;\n",
       "    }\n",
       "</style>\n",
       "<table border=\"1\" class=\"dataframe\">\n",
       "  <thead>\n",
       "    <tr style=\"text-align: right;\">\n",
       "      <th></th>\n",
       "      <th>Car</th>\n",
       "      <th>Location</th>\n",
       "    </tr>\n",
       "  </thead>\n",
       "  <tbody>\n",
       "    <tr>\n",
       "      <th>0</th>\n",
       "      <td>Ford</td>\n",
       "      <td>Northwest</td>\n",
       "    </tr>\n",
       "    <tr>\n",
       "      <th>1</th>\n",
       "      <td>Ford</td>\n",
       "      <td>East</td>\n",
       "    </tr>\n",
       "    <tr>\n",
       "      <th>2</th>\n",
       "      <td>Mitsubishi</td>\n",
       "      <td>Northwest</td>\n",
       "    </tr>\n",
       "    <tr>\n",
       "      <th>3</th>\n",
       "      <td>Datsun</td>\n",
       "      <td>Northwest</td>\n",
       "    </tr>\n",
       "    <tr>\n",
       "      <th>4</th>\n",
       "      <td>Mitsubishi</td>\n",
       "      <td>Southwest</td>\n",
       "    </tr>\n",
       "  </tbody>\n",
       "</table>\n",
       "</div>"
      ],
      "text/plain": [
       "          Car   Location\n",
       "0        Ford  Northwest\n",
       "1        Ford       East\n",
       "2  Mitsubishi  Northwest\n",
       "3      Datsun  Northwest\n",
       "4  Mitsubishi  Southwest"
      ]
     },
     "execution_count": 52,
     "metadata": {},
     "output_type": "execute_result"
    }
   ],
   "source": [
    "# Reading csv\n",
    "L3Part3 = pd.read_csv('C:/Users/music/Desktop/L3Part3.csv')\n",
    "L3Part3.head()"
   ]
  },
  {
   "cell_type": "code",
   "execution_count": 112,
   "id": "642ea59f",
   "metadata": {},
   "outputs": [
    {
     "data": {
      "text/plain": [
       "<AxesSubplot:xlabel='Car'>"
      ]
     },
     "execution_count": 112,
     "metadata": {},
     "output_type": "execute_result"
    },
    {
     "data": {
      "image/png": "[encoded data removed]",
      "text/plain": [
       "<Figure size 432x288 with 1 Axes>"
      ]
     },
     "metadata": {
      "needs_background": "light"
     },
     "output_type": "display_data"
    }
   ],
   "source": [
    "L3Part3.groupby(['Car', 'Location']).size().unstack().plot(kind='bar', stacked=True)"
   ]
  },
  {
   "cell_type": "markdown",
   "id": "fb7ddc0c",
   "metadata": {},
   "source": [
    "# Report\n",
    "# The East location has roughly the same number of Fords and Jaguars. The Northwest has more Jaguars. The Southwest has a more of Jaguars more than any other location. There are not may Datsun and Mitsubishi brand cars on the roads."
   ]
  },
  {
   "cell_type": "markdown",
   "id": "abcd13c1",
   "metadata": {},
   "source": [
    "# Part 4\n",
    "## The following dataset contains data for estuarine crocodiles, recording their head length and body length. Visualize the data with a clearly labeled scatter plot."
   ]
  },
  {
   "cell_type": "code",
   "execution_count": 54,
   "id": "0704c50e",
   "metadata": {},
   "outputs": [
    {
     "data": {
      "text/html": [
       "<div>\n",
       "<style scoped>\n",
       "    .dataframe tbody tr th:only-of-type {\n",
       "        vertical-align: middle;\n",
       "    }\n",
       "\n",
       "    .dataframe tbody tr th {\n",
       "        vertical-align: top;\n",
       "    }\n",
       "\n",
       "    .dataframe thead th {\n",
       "        text-align: right;\n",
       "    }\n",
       "</style>\n",
       "<table border=\"1\" class=\"dataframe\">\n",
       "  <thead>\n",
       "    <tr style=\"text-align: right;\">\n",
       "      <th></th>\n",
       "      <th>CommonName</th>\n",
       "      <th>HeadLength</th>\n",
       "      <th>BodyLength</th>\n",
       "    </tr>\n",
       "  </thead>\n",
       "  <tbody>\n",
       "    <tr>\n",
       "      <th>0</th>\n",
       "      <td>Estuarine Crocodile</td>\n",
       "      <td>24</td>\n",
       "      <td>161</td>\n",
       "    </tr>\n",
       "    <tr>\n",
       "      <th>1</th>\n",
       "      <td>Estuarine Crocodile</td>\n",
       "      <td>24</td>\n",
       "      <td>179</td>\n",
       "    </tr>\n",
       "    <tr>\n",
       "      <th>2</th>\n",
       "      <td>Estuarine Crocodile</td>\n",
       "      <td>32</td>\n",
       "      <td>226</td>\n",
       "    </tr>\n",
       "    <tr>\n",
       "      <th>3</th>\n",
       "      <td>Estuarine Crocodile</td>\n",
       "      <td>35</td>\n",
       "      <td>259</td>\n",
       "    </tr>\n",
       "    <tr>\n",
       "      <th>4</th>\n",
       "      <td>Estuarine Crocodile</td>\n",
       "      <td>40</td>\n",
       "      <td>287</td>\n",
       "    </tr>\n",
       "  </tbody>\n",
       "</table>\n",
       "</div>"
      ],
      "text/plain": [
       "            CommonName  HeadLength  BodyLength\n",
       "0  Estuarine Crocodile          24         161\n",
       "1  Estuarine Crocodile          24         179\n",
       "2  Estuarine Crocodile          32         226\n",
       "3  Estuarine Crocodile          35         259\n",
       "4  Estuarine Crocodile          40         287"
      ]
     },
     "execution_count": 54,
     "metadata": {},
     "output_type": "execute_result"
    }
   ],
   "source": [
    "# Reading csv\n",
    "crocodiles = pd.read_csv('C:/Users/music/Desktop/crocodiles.csv')\n",
    "crocodiles.head()"
   ]
  },
  {
   "cell_type": "code",
   "execution_count": 82,
   "id": "74c8384f",
   "metadata": {},
   "outputs": [
    {
     "data": {
      "text/plain": [
       "Text(0, 0.5, 'HeadLength')"
      ]
     },
     "execution_count": 82,
     "metadata": {},
     "output_type": "execute_result"
    },
    {
     "data": {
      "image/png": "[encoded data removed]",
      "text/plain": [
       "<Figure size 432x288 with 1 Axes>"
      ]
     },
     "metadata": {
      "needs_background": "light"
     },
     "output_type": "display_data"
    }
   ],
   "source": [
    "ScatterPlot = crocodiles.plot.scatter(x = 'BodyLength', y = 'HeadLength')\n",
    "ScatterPlot.set_title(\"Crocodiles\")\n",
    "ScatterPlot.set_xlabel(\"BodyLength\")\n",
    "ScatterPlot.set_ylabel(\"HeadLength\")"
   ]
  },
  {
   "cell_type": "markdown",
   "id": "05f9036e",
   "metadata": {},
   "source": [
    "# Report\n",
    "# Smaller the BodyLength = smaller the Headlength, greater the HeadLength = greater the BodyLength"
   ]
  },
  {
   "cell_type": "markdown",
   "id": "8c82eaa1",
   "metadata": {},
   "source": [
    "# Part 5\n",
    "## Here's data tracking heart attacks treated at a hospital chain in a large US city. Use this data to create a line chart. Be sure to label the graph, and label both axes."
   ]
  },
  {
   "cell_type": "code",
   "execution_count": 55,
   "id": "3b4d9c0c",
   "metadata": {},
   "outputs": [
    {
     "data": {
      "text/html": [
       "<div>\n",
       "<style scoped>\n",
       "    .dataframe tbody tr th:only-of-type {\n",
       "        vertical-align: middle;\n",
       "    }\n",
       "\n",
       "    .dataframe tbody tr th {\n",
       "        vertical-align: top;\n",
       "    }\n",
       "\n",
       "    .dataframe thead th {\n",
       "        text-align: right;\n",
       "    }\n",
       "</style>\n",
       "<table border=\"1\" class=\"dataframe\">\n",
       "  <thead>\n",
       "    <tr style=\"text-align: right;\">\n",
       "      <th></th>\n",
       "      <th>Month</th>\n",
       "      <th>Day</th>\n",
       "      <th>Year</th>\n",
       "      <th>Heart Attacks</th>\n",
       "    </tr>\n",
       "  </thead>\n",
       "  <tbody>\n",
       "    <tr>\n",
       "      <th>0</th>\n",
       "      <td>May</td>\n",
       "      <td>1,</td>\n",
       "      <td>2003</td>\n",
       "      <td>12</td>\n",
       "    </tr>\n",
       "    <tr>\n",
       "      <th>1</th>\n",
       "      <td>May</td>\n",
       "      <td>2,</td>\n",
       "      <td>2003</td>\n",
       "      <td>12</td>\n",
       "    </tr>\n",
       "    <tr>\n",
       "      <th>2</th>\n",
       "      <td>May</td>\n",
       "      <td>3,</td>\n",
       "      <td>2003</td>\n",
       "      <td>6</td>\n",
       "    </tr>\n",
       "    <tr>\n",
       "      <th>3</th>\n",
       "      <td>May</td>\n",
       "      <td>4,</td>\n",
       "      <td>2003</td>\n",
       "      <td>16</td>\n",
       "    </tr>\n",
       "    <tr>\n",
       "      <th>4</th>\n",
       "      <td>May</td>\n",
       "      <td>5,</td>\n",
       "      <td>2003</td>\n",
       "      <td>13</td>\n",
       "    </tr>\n",
       "  </tbody>\n",
       "</table>\n",
       "</div>"
      ],
      "text/plain": [
       "  Month Day  Year  Heart Attacks\n",
       "0   May  1,  2003             12\n",
       "1   May  2,  2003             12\n",
       "2   May  3,  2003              6\n",
       "3   May  4,  2003             16\n",
       "4   May  5,  2003             13"
      ]
     },
     "execution_count": 55,
     "metadata": {},
     "output_type": "execute_result"
    }
   ],
   "source": [
    "# Reading csv\n",
    "Part5 = pd.read_csv('C:/Users/music/Desktop/L6handson.csv')\n",
    "Part5.head()"
   ]
  },
  {
   "cell_type": "code",
   "execution_count": 93,
   "id": "2567e4a0",
   "metadata": {},
   "outputs": [
    {
     "name": "stdout",
     "output_type": "stream",
     "text": [
      "<class 'pandas.core.frame.DataFrame'>\n",
      "RangeIndex: 91 entries, 0 to 90\n",
      "Data columns (total 4 columns):\n",
      " #   Column         Non-Null Count  Dtype \n",
      "---  ------         --------------  ----- \n",
      " 0   Month          91 non-null     object\n",
      " 1   Day            91 non-null     object\n",
      " 2   Year           91 non-null     int64 \n",
      " 3   Heart Attacks  91 non-null     int64 \n",
      "dtypes: int64(2), object(2)\n",
      "memory usage: 3.0+ KB\n"
     ]
    }
   ],
   "source": [
    "Part5.info()"
   ]
  },
  {
   "cell_type": "code",
   "execution_count": 92,
   "id": "c433ae65",
   "metadata": {},
   "outputs": [
    {
     "data": {
      "text/plain": [
       "Text(0.5, 1.0, 'When do Heart Attacks happen')"
      ]
     },
     "execution_count": 92,
     "metadata": {},
     "output_type": "execute_result"
    },
    {
     "data": {
      "image/png": "[encoded data removed]",
      "text/plain": [
       "<Figure size 432x288 with 1 Axes>"
      ]
     },
     "metadata": {
      "needs_background": "light"
     },
     "output_type": "display_data"
    }
   ],
   "source": [
    "plt.plot(Part5['Month'], Part5['Heart Attacks'])\n",
    "plt.xlabel(\"Month of Heart Attacks\")\n",
    "plt.ylabel('Number of Heart Attacks')\n",
    "plt.title('When do Heart Attacks happen')"
   ]
  },
  {
   "cell_type": "markdown",
   "id": "670bceb2",
   "metadata": {},
   "source": [
    "# Report\n",
    "# Heart Attacks tend to spike during the end and the beginning of each month"
   ]
  }
 ],
 "metadata": {
  "kernelspec": {
   "display_name": "Python 3",
   "language": "python",
   "name": "python3"
  },
  "language_info": {
   "codemirror_mode": {
    "name": "ipython",
    "version": 3
   },
   "file_extension": ".py",
   "mimetype": "text/x-python",
   "name": "python",
   "nbconvert_exporter": "python",
   "pygments_lexer": "ipython3",
   "version": "3.8.8"
  }
 },
 "nbformat": 4,
 "nbformat_minor": 5
}
