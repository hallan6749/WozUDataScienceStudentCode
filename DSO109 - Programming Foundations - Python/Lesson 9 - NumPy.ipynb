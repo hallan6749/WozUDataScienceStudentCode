{
 "cells": [
  {
   "cell_type": "code",
   "execution_count": 1,
   "id": "d8860660",
   "metadata": {},
   "outputs": [],
   "source": [
    "import numpy as np"
   ]
  },
  {
   "cell_type": "code",
   "execution_count": 4,
   "id": "05eb553a",
   "metadata": {},
   "outputs": [
    {
     "name": "stdout",
     "output_type": "stream",
     "text": [
      "[ 1  5  7  9 11]\n"
     ]
    }
   ],
   "source": [
    "#Create a five element array using your favorite numbers named myFavorites.\n",
    "myFavorites = np.array([1, 5, 7, 9, 11])\n",
    "print(myFavorites)"
   ]
  },
  {
   "cell_type": "code",
   "execution_count": 10,
   "id": "dfd9b46a",
   "metadata": {},
   "outputs": [
    {
     "data": {
      "text/plain": [
       "11"
      ]
     },
     "execution_count": 10,
     "metadata": {},
     "output_type": "execute_result"
    }
   ],
   "source": [
    "#Perform each of the five aggregate functions on your array.\n",
    "myFavorites.max()"
   ]
  },
  {
   "cell_type": "code",
   "execution_count": 9,
   "id": "002d16ba",
   "metadata": {},
   "outputs": [
    {
     "data": {
      "text/plain": [
       "33"
      ]
     },
     "execution_count": 9,
     "metadata": {},
     "output_type": "execute_result"
    }
   ],
   "source": [
    "myFavorites.sum()"
   ]
  },
  {
   "cell_type": "code",
   "execution_count": 8,
   "id": "64899ca6",
   "metadata": {},
   "outputs": [
    {
     "data": {
      "text/plain": [
       "3.4409301068170506"
      ]
     },
     "execution_count": 8,
     "metadata": {},
     "output_type": "execute_result"
    }
   ],
   "source": [
    "myFavorites.std()"
   ]
  },
  {
   "cell_type": "code",
   "execution_count": 7,
   "id": "254bfb33",
   "metadata": {},
   "outputs": [
    {
     "data": {
      "text/plain": [
       "6.6"
      ]
     },
     "execution_count": 7,
     "metadata": {},
     "output_type": "execute_result"
    }
   ],
   "source": [
    "myFavorites.mean()"
   ]
  },
  {
   "cell_type": "code",
   "execution_count": 6,
   "id": "c35129f8",
   "metadata": {},
   "outputs": [
    {
     "data": {
      "text/plain": [
       "1"
      ]
     },
     "execution_count": 6,
     "metadata": {},
     "output_type": "execute_result"
    }
   ],
   "source": [
    "myFavorites.min()"
   ]
  },
  {
   "cell_type": "code",
   "execution_count": 11,
   "id": "550d2d4d",
   "metadata": {},
   "outputs": [],
   "source": [
    "#Create a five element array containing only ones named OneArrayToRuleThemAll.\n",
    "OneArrayToRuleThemAll = np.ones(5)"
   ]
  },
  {
   "cell_type": "code",
   "execution_count": 12,
   "id": "9f395050",
   "metadata": {},
   "outputs": [
    {
     "data": {
      "text/plain": [
       "array([ 2.,  6.,  8., 10., 12.])"
      ]
     },
     "execution_count": 12,
     "metadata": {},
     "output_type": "execute_result"
    }
   ],
   "source": [
    "#Add myFavorites and OneArrayToRuleThemAll.\n",
    "OneArrayToRuleThemAll + myFavorites"
   ]
  },
  {
   "cell_type": "code",
   "execution_count": 13,
   "id": "ae6c7e07",
   "metadata": {},
   "outputs": [
    {
     "data": {
      "text/plain": [
       "array([ 2, 10, 14, 18, 22])"
      ]
     },
     "execution_count": 13,
     "metadata": {},
     "output_type": "execute_result"
    }
   ],
   "source": [
    "#Multiply every element in myFavorites by two.\n",
    "myFavorites * 2"
   ]
  },
  {
   "cell_type": "code",
   "execution_count": 14,
   "id": "d296cc78",
   "metadata": {},
   "outputs": [
    {
     "data": {
      "text/plain": [
       "7"
      ]
     },
     "execution_count": 14,
     "metadata": {},
     "output_type": "execute_result"
    }
   ],
   "source": [
    "#Call the third element in myFavorites using indexing.\n",
    "myFavorites[2]"
   ]
  },
  {
   "cell_type": "code",
   "execution_count": 41,
   "id": "e5c030d9",
   "metadata": {},
   "outputs": [
    {
     "name": "stdout",
     "output_type": "stream",
     "text": [
      "[[5 2]\n",
      " [3 4]]\n"
     ]
    }
   ],
   "source": [
    "#Create a four element, two-by-two matrix of numbers named TheMatrixHasYou.\n",
    "TheMatrixHasYou = np.array([[5,2], [3,4]])\n",
    "print(TheMatrixHasYou)"
   ]
  },
  {
   "cell_type": "code",
   "execution_count": 42,
   "id": "c564da42",
   "metadata": {},
   "outputs": [
    {
     "data": {
      "text/plain": [
       "5"
      ]
     },
     "execution_count": 42,
     "metadata": {},
     "output_type": "execute_result"
    }
   ],
   "source": [
    "#Access the upper left element in TheMatrixHasYou using indexing.\n",
    "TheMatrixHasYou[0,0]"
   ]
  },
  {
   "cell_type": "code",
   "execution_count": 38,
   "id": "4a67ad63",
   "metadata": {},
   "outputs": [
    {
     "data": {
      "text/plain": [
       "array([5, 4])"
      ]
     },
     "execution_count": 38,
     "metadata": {},
     "output_type": "execute_result"
    }
   ],
   "source": [
    "#Find the largest number in each row for TheMatrixHasYou.\n",
    "TheMatrixHasYou.max(axis=0)\n",
    "TheMatrixHasYou.max(axis=1)"
   ]
  },
  {
   "cell_type": "code",
   "execution_count": 39,
   "id": "02f61212",
   "metadata": {},
   "outputs": [
    {
     "data": {
      "text/plain": [
       "array([[5, 2, 3, 4]])"
      ]
     },
     "execution_count": 39,
     "metadata": {},
     "output_type": "execute_result"
    }
   ],
   "source": [
    "#Reshape TheMatrixHasYou into a matrix with one row and four columns.\n",
    "TheMatrixHasYou.reshape(1,4)"
   ]
  }
 ],
 "metadata": {
  "kernelspec": {
   "display_name": "Python 3",
   "language": "python",
   "name": "python3"
  },
  "language_info": {
   "codemirror_mode": {
    "name": "ipython",
    "version": 3
   },
   "file_extension": ".py",
   "mimetype": "text/x-python",
   "name": "python",
   "nbconvert_exporter": "python",
   "pygments_lexer": "ipython3",
   "version": "3.8.8"
  }
 },
 "nbformat": 4,
 "nbformat_minor": 5
}
